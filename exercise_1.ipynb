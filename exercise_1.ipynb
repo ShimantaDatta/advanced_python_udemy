{
  "nbformat": 4,
  "nbformat_minor": 0,
  "metadata": {
    "colab": {
      "name": "exercise 1.ipynb",
      "provenance": [],
      "authorship_tag": "ABX9TyPrSrBo7ZWpw7aLbBFPstkb",
      "include_colab_link": true
    },
    "kernelspec": {
      "name": "python3",
      "display_name": "Python 3"
    },
    "language_info": {
      "name": "python"
    }
  },
  "cells": [
    {
      "cell_type": "markdown",
      "metadata": {
        "id": "view-in-github",
        "colab_type": "text"
      },
      "source": [
        "<a href=\"https://colab.research.google.com/github/ShimantaDatta/advanced_python_udemy/blob/main/exercise_1.ipynb\" target=\"_parent\"><img src=\"https://colab.research.google.com/assets/colab-badge.svg\" alt=\"Open In Colab\"/></a>"
      ]
    },
    {
      "cell_type": "markdown",
      "metadata": {
        "id": "JtmYFAIpd_dO"
      },
      "source": [
        "###Exercise 1:\n",
        "Find the sum of all numbers that are divisible by 5 or 7 less than 100"
      ]
    },
    {
      "cell_type": "code",
      "metadata": {
        "id": "lun9CdiHSa8i"
      },
      "source": [
        "\n",
        "list = []\n",
        "for i in range (1,100):\n",
        "    if i%5==0 or i%7==0:\n",
        "        list.append(i)\n",
        "print (sum(list))"
      ],
      "execution_count": null,
      "outputs": []
    }
  ]
}